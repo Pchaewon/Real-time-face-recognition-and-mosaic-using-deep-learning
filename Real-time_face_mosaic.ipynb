{
 "cells": [
  {
   "cell_type": "code",
   "execution_count": 38,
   "metadata": {},
   "outputs": [
    {
     "name": "stdout",
     "output_type": "stream",
     "text": [
      "Number of faces detected: 1\n",
      "Number of faces detected: 1\n",
      "Number of faces detected: 1\n",
      "Number of faces detected: 1\n",
      "Number of faces detected: 1\n",
      "Number of faces detected: 1\n",
      "Number of faces detected: 1\n",
      "Number of faces detected: 1\n",
      "Number of faces detected: 1\n"
     ]
    }
   ],
   "source": [
    "import numpy as np\n",
    "import cv2\n",
    "\n",
    "xml = 'haarcascades/haarcascade_frontalface_default.xml'\n",
    "face_cascade = cv2.CascadeClassifier(xml)\n",
    "mosaic_img = cv2.imread('image/mosaic.png')\n",
    "\n",
    "cap = cv2.VideoCapture(0)\n",
    "cap.set(3,640) # set Width\n",
    "cap.set(4,480) # set Height\n",
    "\n",
    "while(True):\n",
    "    ret, frame = cap.read()\n",
    "#    frame = cv2.flip(frame, -1) # Flip camera vertically\n",
    "    gray = cv2.cvtColor(frame, cv2.COLOR_BGR2GRAY)\n",
    "\n",
    "    faces = face_cascade.detectMultiScale(gray, 1.05, 5)\n",
    "    print(\"Number of faces detected: \" + str(len(faces)))\n",
    "\n",
    "    if len(faces):\n",
    "\n",
    "        for (x,y,w,h) in faces:\n",
    "#            cv2.rectangle(frame,(x,y),(x+w,y+h),(0,255,0),2)\n",
    "\n",
    "#            tq = cv2.resize(tq, dsize=(w+10, h+40), interpolation=cv2.cv2.INTER_LINEAR)\n",
    "            wi, hi = int(w*0.08/2), int(h*0.23/2)\n",
    "            t = cv2.resize(mosaic_img, dsize=(w+wi*2, h+hi*2), interpolation=cv2.cv2.INTER_LINEAR)\n",
    "\n",
    "            result = frame.copy() \n",
    "#            result[y-20:y+h+20, x-5:x+w+5] = t\n",
    "            result[y-hi:y+h+hi, x-wi:x+w+wi] = t\n",
    "\n",
    "        cv2.putText(result, \"Real-time face mosaic\", (0,frame.shape[0] -10), \n",
    "                    cv2.FONT_HERSHEY_TRIPLEX, 0.5,  (0,0,0), 1);\n",
    "        cv2.imshow('result', result)\n",
    "        \n",
    "    k = cv2.waitKey(30) & 0xff\n",
    "    if k == 27: # press 'ESC' to quit\n",
    "        break\n",
    "\n",
    "cap.release()\n",
    "cv2.destroyAllWindows()"
   ]
  },
  {
   "cell_type": "code",
   "execution_count": null,
   "metadata": {},
   "outputs": [],
   "source": []
  }
 ],
 "metadata": {
  "kernelspec": {
   "display_name": "Python 3",
   "language": "python",
   "name": "python3"
  },
  "language_info": {
   "codemirror_mode": {
    "name": "ipython",
    "version": 3
   },
   "file_extension": ".py",
   "mimetype": "text/x-python",
   "name": "python",
   "nbconvert_exporter": "python",
   "pygments_lexer": "ipython3",
   "version": "3.6.10"
  }
 },
 "nbformat": 4,
 "nbformat_minor": 2
}
